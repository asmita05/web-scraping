{
 "cells": [
  {
   "cell_type": "code",
   "execution_count": 1,
   "metadata": {
    "collapsed": true
   },
   "outputs": [],
   "source": [
    "import urllib2"
   ]
  },
  {
   "cell_type": "code",
   "execution_count": 6,
   "metadata": {
    "collapsed": false
   },
   "outputs": [],
   "source": [
    "from bs4 import BeautifulSoup"
   ]
  },
  {
   "cell_type": "code",
   "execution_count": 7,
   "metadata": {
    "collapsed": true
   },
   "outputs": [],
   "source": [
    "wiki=\"https://en.wikipedia.org/wiki/List_of_state_and_union_territory_capitals_in_India\""
   ]
  },
  {
   "cell_type": "code",
   "execution_count": 9,
   "metadata": {
    "collapsed": false
   },
   "outputs": [],
   "source": [
    "page=urllib2.urlopen(wiki)"
   ]
  },
  {
   "cell_type": "code",
   "execution_count": 10,
   "metadata": {
    "collapsed": false
   },
   "outputs": [
    {
     "name": "stderr",
     "output_type": "stream",
     "text": [
      "C:\\Users\\master\\Anaconda2\\lib\\site-packages\\bs4\\__init__.py:181: UserWarning: No parser was explicitly specified, so I'm using the best available HTML parser for this system (\"lxml\"). This usually isn't a problem, but if you run this code on another system, or in a different virtual environment, it may use a different parser and behave differently.\n",
      "\n",
      "The code that caused this warning is on line 174 of the file C:\\Users\\master\\Anaconda2\\lib\\runpy.py. To get rid of this warning, change code that looks like this:\n",
      "\n",
      " BeautifulSoup(YOUR_MARKUP})\n",
      "\n",
      "to this:\n",
      "\n",
      " BeautifulSoup(YOUR_MARKUP, \"lxml\")\n",
      "\n",
      "  markup_type=markup_type))\n"
     ]
    }
   ],
   "source": [
    "soup=BeautifulSoup(page)"
   ]
  },
  {
   "cell_type": "code",
   "execution_count": 11,
   "metadata": {
    "collapsed": false
   },
   "outputs": [
    {
     "data": {
      "text/plain": [
       "bs4.BeautifulSoup"
      ]
     },
     "execution_count": 11,
     "metadata": {},
     "output_type": "execute_result"
    }
   ],
   "source": [
    "type(soup)"
   ]
  },
  {
   "cell_type": "code",
   "execution_count": 12,
   "metadata": {
    "collapsed": false
   },
   "outputs": [
    {
     "data": {
      "text/plain": [
       "instance"
      ]
     },
     "execution_count": 12,
     "metadata": {},
     "output_type": "execute_result"
    }
   ],
   "source": [
    "type(page)"
   ]
  },
  {
   "cell_type": "code",
   "execution_count": 13,
   "metadata": {
    "collapsed": false
   },
   "outputs": [
    {
     "data": {
      "text/plain": [
       "str"
      ]
     },
     "execution_count": 13,
     "metadata": {},
     "output_type": "execute_result"
    }
   ],
   "source": [
    "type(wiki)"
   ]
  },
  {
   "cell_type": "code",
   "execution_count": 30,
   "metadata": {
    "collapsed": false
   },
   "outputs": [],
   "source": [
    "#print(soup.prettify())"
   ]
  },
  {
   "cell_type": "code",
   "execution_count": 18,
   "metadata": {
    "collapsed": false
   },
   "outputs": [
    {
     "data": {
      "text/plain": [
       "<title>List of state and union territory capitals in India - Wikipedia</title>"
      ]
     },
     "execution_count": 18,
     "metadata": {},
     "output_type": "execute_result"
    }
   ],
   "source": [
    "soup.title"
   ]
  },
  {
   "cell_type": "code",
   "execution_count": 19,
   "metadata": {
    "collapsed": false
   },
   "outputs": [
    {
     "data": {
      "text/plain": [
       "<a id=\"top\"></a>"
      ]
     },
     "execution_count": 19,
     "metadata": {},
     "output_type": "execute_result"
    }
   ],
   "source": [
    "soup.a"
   ]
  },
  {
   "cell_type": "code",
   "execution_count": 24,
   "metadata": {
    "collapsed": false
   },
   "outputs": [],
   "source": [
    "#all_links=soup.find_all('a')\n",
    "#for link in all_links:\n",
    " #   print(link.get(\"href\"))"
   ]
  },
  {
   "cell_type": "code",
   "execution_count": 25,
   "metadata": {
    "collapsed": true
   },
   "outputs": [],
   "source": [
    "all_table=soup.find_all(\"table\")"
   ]
  },
  {
   "cell_type": "code",
   "execution_count": 33,
   "metadata": {
    "collapsed": false
   },
   "outputs": [],
   "source": [
    "#soup.find_all('table', class_='wikitable sortable plainrowheaders')"
   ]
  },
  {
   "cell_type": "code",
   "execution_count": 34,
   "metadata": {
    "collapsed": true
   },
   "outputs": [],
   "source": [
    "right_table=soup.find('table',{'class':\"wikitable sortable plainrowheaders\"})"
   ]
  },
  {
   "cell_type": "code",
   "execution_count": 36,
   "metadata": {
    "collapsed": false
   },
   "outputs": [],
   "source": [
    "#right_table"
   ]
  },
  {
   "cell_type": "code",
   "execution_count": 38,
   "metadata": {
    "collapsed": false
   },
   "outputs": [],
   "source": [
    "#generate lists\n",
    "A=[]\n",
    "B=[]\n",
    "C=[]\n",
    "D=[]\n",
    "E=[]\n",
    "F=[]\n",
    "G=[]\n",
    "for row in right_table.findAll(\"tr\"):\n",
    "    cells = row.findAll('td')\n",
    "    states=row.findAll('th') #To store second column data\n",
    "    if len(cells)==6: #Only extract table body not heading\n",
    "        A.append(cells[0].find(text=True))\n",
    "        B.append(states[0].find(text=True))\n",
    "        C.append(cells[1].find(text=True))\n",
    "        D.append(cells[2].find(text=True))\n",
    "        E.append(cells[3].find(text=True))\n",
    "        F.append(cells[4].find(text=True))\n",
    "        G.append(cells[5].find(text=True))"
   ]
  },
  {
   "cell_type": "code",
   "execution_count": 39,
   "metadata": {
    "collapsed": true
   },
   "outputs": [],
   "source": [
    "import pandas as pd"
   ]
  },
  {
   "cell_type": "code",
   "execution_count": 40,
   "metadata": {
    "collapsed": false
   },
   "outputs": [
    {
     "data": {
      "text/html": [
       "<div>\n",
       "<table border=\"1\" class=\"dataframe\">\n",
       "  <thead>\n",
       "    <tr style=\"text-align: right;\">\n",
       "      <th></th>\n",
       "      <th>Number</th>\n",
       "      <th>State/UT</th>\n",
       "      <th>Admin_Capital</th>\n",
       "      <th>Legislative_Capital</th>\n",
       "      <th>Judiciary_Capital</th>\n",
       "      <th>Year_Capital</th>\n",
       "      <th>Former_Capital</th>\n",
       "    </tr>\n",
       "  </thead>\n",
       "  <tbody>\n",
       "    <tr>\n",
       "      <th>0</th>\n",
       "      <td>1</td>\n",
       "      <td>Andaman and Nicobar Islands</td>\n",
       "      <td>Port Blair</td>\n",
       "      <td>Port Blair</td>\n",
       "      <td>Kolkata</td>\n",
       "      <td>1955</td>\n",
       "      <td>Calcutta (1945–1956)</td>\n",
       "    </tr>\n",
       "    <tr>\n",
       "      <th>1</th>\n",
       "      <td>2</td>\n",
       "      <td>Andhra Pradesh</td>\n",
       "      <td>Hyderabad</td>\n",
       "      <td>Amaravati</td>\n",
       "      <td>Hyderabad</td>\n",
       "      <td>1956</td>\n",
       "      <td>Kurnool</td>\n",
       "    </tr>\n",
       "    <tr>\n",
       "      <th>2</th>\n",
       "      <td>3</td>\n",
       "      <td>Arunachal Pradesh</td>\n",
       "      <td>Itanagar</td>\n",
       "      <td>Itanagar</td>\n",
       "      <td>Guwahati</td>\n",
       "      <td>1986</td>\n",
       "      <td>None</td>\n",
       "    </tr>\n",
       "    <tr>\n",
       "      <th>3</th>\n",
       "      <td>4</td>\n",
       "      <td>Assam</td>\n",
       "      <td>Dispur</td>\n",
       "      <td>Guwahati</td>\n",
       "      <td>Guwahati</td>\n",
       "      <td>1975</td>\n",
       "      <td>Shillong</td>\n",
       "    </tr>\n",
       "    <tr>\n",
       "      <th>4</th>\n",
       "      <td>5</td>\n",
       "      <td>Bihar</td>\n",
       "      <td>Patna</td>\n",
       "      <td>Patna</td>\n",
       "      <td>Patna</td>\n",
       "      <td>1912</td>\n",
       "      <td>None</td>\n",
       "    </tr>\n",
       "    <tr>\n",
       "      <th>5</th>\n",
       "      <td>6</td>\n",
       "      <td>Chandigarh</td>\n",
       "      <td>Chandigarh</td>\n",
       "      <td>—</td>\n",
       "      <td>Chandigarh</td>\n",
       "      <td>1966</td>\n",
       "      <td>—</td>\n",
       "    </tr>\n",
       "    <tr>\n",
       "      <th>6</th>\n",
       "      <td>7</td>\n",
       "      <td>Chhattisgarh</td>\n",
       "      <td>Naya Raipur</td>\n",
       "      <td>Raipur</td>\n",
       "      <td>Bilaspur</td>\n",
       "      <td>2000</td>\n",
       "      <td>—</td>\n",
       "    </tr>\n",
       "    <tr>\n",
       "      <th>7</th>\n",
       "      <td>8</td>\n",
       "      <td>Dadra and Nagar Haveli</td>\n",
       "      <td>Silvassa</td>\n",
       "      <td>—</td>\n",
       "      <td>Mumbai</td>\n",
       "      <td>1945</td>\n",
       "      <td>Mumbai (1954–1961)</td>\n",
       "    </tr>\n",
       "    <tr>\n",
       "      <th>8</th>\n",
       "      <td>9</td>\n",
       "      <td>Daman and Diu</td>\n",
       "      <td>Daman</td>\n",
       "      <td>—</td>\n",
       "      <td>Mumbai</td>\n",
       "      <td>1987</td>\n",
       "      <td>Ahmedabad</td>\n",
       "    </tr>\n",
       "    <tr>\n",
       "      <th>9</th>\n",
       "      <td>10</td>\n",
       "      <td>National Capital Territory of Delhi</td>\n",
       "      <td>New Delhi</td>\n",
       "      <td>New Delhi</td>\n",
       "      <td>New Delhi</td>\n",
       "      <td>1931</td>\n",
       "      <td>—</td>\n",
       "    </tr>\n",
       "    <tr>\n",
       "      <th>10</th>\n",
       "      <td>11</td>\n",
       "      <td>Goa</td>\n",
       "      <td>Panaji</td>\n",
       "      <td>Porvorim</td>\n",
       "      <td>Mumbai</td>\n",
       "      <td>1961</td>\n",
       "      <td>Panaji (1961–1987)</td>\n",
       "    </tr>\n",
       "    <tr>\n",
       "      <th>11</th>\n",
       "      <td>12</td>\n",
       "      <td>Gujarat</td>\n",
       "      <td>Gandhinagar</td>\n",
       "      <td>Gandhinagar</td>\n",
       "      <td>Ahmedabad</td>\n",
       "      <td>1960</td>\n",
       "      <td>Ahmedabad</td>\n",
       "    </tr>\n",
       "    <tr>\n",
       "      <th>12</th>\n",
       "      <td>13</td>\n",
       "      <td>Haryana</td>\n",
       "      <td>Chandigarh</td>\n",
       "      <td>Chandigarh</td>\n",
       "      <td>Chandigarh</td>\n",
       "      <td>1966</td>\n",
       "      <td>—</td>\n",
       "    </tr>\n",
       "    <tr>\n",
       "      <th>13</th>\n",
       "      <td>14</td>\n",
       "      <td>Himachal Pradesh</td>\n",
       "      <td>Shimla</td>\n",
       "      <td>Shimla (Summer)</td>\n",
       "      <td>Shimla</td>\n",
       "      <td>1971</td>\n",
       "      <td>Bilaspur</td>\n",
       "    </tr>\n",
       "    <tr>\n",
       "      <th>14</th>\n",
       "      <td>15</td>\n",
       "      <td>Jammu and Kashmir</td>\n",
       "      <td>Srinagar</td>\n",
       "      <td>Srinagar (Summer)</td>\n",
       "      <td>Srinagar (Summer)</td>\n",
       "      <td>1947</td>\n",
       "      <td>—</td>\n",
       "    </tr>\n",
       "    <tr>\n",
       "      <th>15</th>\n",
       "      <td>16</td>\n",
       "      <td>Jharkhand</td>\n",
       "      <td>Ranchi</td>\n",
       "      <td>Ranchi</td>\n",
       "      <td>Ranchi</td>\n",
       "      <td>2000</td>\n",
       "      <td>None</td>\n",
       "    </tr>\n",
       "    <tr>\n",
       "      <th>16</th>\n",
       "      <td>17</td>\n",
       "      <td>Karnataka</td>\n",
       "      <td>Bengaluru</td>\n",
       "      <td>Bengaluru</td>\n",
       "      <td>Bengaluru</td>\n",
       "      <td>1940</td>\n",
       "      <td>(Mysore)</td>\n",
       "    </tr>\n",
       "    <tr>\n",
       "      <th>17</th>\n",
       "      <td>18</td>\n",
       "      <td>Kerala</td>\n",
       "      <td>Thiruvananthapuram</td>\n",
       "      <td>Thiruvananthapuram</td>\n",
       "      <td>Kochi</td>\n",
       "      <td>1956</td>\n",
       "      <td>None</td>\n",
       "    </tr>\n",
       "    <tr>\n",
       "      <th>18</th>\n",
       "      <td>19</td>\n",
       "      <td>Lakshadweep</td>\n",
       "      <td>Kavaratti</td>\n",
       "      <td>Kavaratti</td>\n",
       "      <td>Kochi</td>\n",
       "      <td>1956</td>\n",
       "      <td>None</td>\n",
       "    </tr>\n",
       "    <tr>\n",
       "      <th>19</th>\n",
       "      <td>20</td>\n",
       "      <td>Madhya Pradesh</td>\n",
       "      <td>Bhopal</td>\n",
       "      <td>Bhopal</td>\n",
       "      <td>Jabalpur</td>\n",
       "      <td>1956</td>\n",
       "      <td>Nagpur</td>\n",
       "    </tr>\n",
       "    <tr>\n",
       "      <th>20</th>\n",
       "      <td>21</td>\n",
       "      <td>Maharashtra</td>\n",
       "      <td>Mumbai</td>\n",
       "      <td>Mumbai (S+B)</td>\n",
       "      <td>Mumbai</td>\n",
       "      <td>1818</td>\n",
       "      <td>—</td>\n",
       "    </tr>\n",
       "    <tr>\n",
       "      <th>21</th>\n",
       "      <td>22</td>\n",
       "      <td>Manipur</td>\n",
       "      <td>Imphal</td>\n",
       "      <td>Imphal</td>\n",
       "      <td>Imphal</td>\n",
       "      <td>1947</td>\n",
       "      <td>—</td>\n",
       "    </tr>\n",
       "    <tr>\n",
       "      <th>22</th>\n",
       "      <td>23</td>\n",
       "      <td>Meghalaya</td>\n",
       "      <td>Shillong</td>\n",
       "      <td>Shillong</td>\n",
       "      <td>Shillong</td>\n",
       "      <td>1970</td>\n",
       "      <td>—</td>\n",
       "    </tr>\n",
       "    <tr>\n",
       "      <th>23</th>\n",
       "      <td>24</td>\n",
       "      <td>Mizoram</td>\n",
       "      <td>Aizawl</td>\n",
       "      <td>Aizawl</td>\n",
       "      <td>Guwahati</td>\n",
       "      <td>1972</td>\n",
       "      <td>—</td>\n",
       "    </tr>\n",
       "    <tr>\n",
       "      <th>24</th>\n",
       "      <td>25</td>\n",
       "      <td>Nagaland</td>\n",
       "      <td>Kohima</td>\n",
       "      <td>Kohima</td>\n",
       "      <td>Guwahati</td>\n",
       "      <td>1963</td>\n",
       "      <td>—</td>\n",
       "    </tr>\n",
       "    <tr>\n",
       "      <th>25</th>\n",
       "      <td>26</td>\n",
       "      <td>Odisha</td>\n",
       "      <td>Bhubaneswar</td>\n",
       "      <td>Bhubaneswar</td>\n",
       "      <td>Cuttack</td>\n",
       "      <td>1948</td>\n",
       "      <td>Cuttack</td>\n",
       "    </tr>\n",
       "    <tr>\n",
       "      <th>26</th>\n",
       "      <td>27</td>\n",
       "      <td>Puducherry</td>\n",
       "      <td>Puducherry</td>\n",
       "      <td>Puducherry</td>\n",
       "      <td>Chennai</td>\n",
       "      <td>1954</td>\n",
       "      <td>Madras</td>\n",
       "    </tr>\n",
       "    <tr>\n",
       "      <th>27</th>\n",
       "      <td>29</td>\n",
       "      <td>Rajasthan</td>\n",
       "      <td>Jaipur</td>\n",
       "      <td>Jaipur</td>\n",
       "      <td>Jodhpur</td>\n",
       "      <td>1950</td>\n",
       "      <td>—</td>\n",
       "    </tr>\n",
       "    <tr>\n",
       "      <th>28</th>\n",
       "      <td>30</td>\n",
       "      <td>Sikkim</td>\n",
       "      <td>Gangtok</td>\n",
       "      <td>Gangtok</td>\n",
       "      <td>Gangtok</td>\n",
       "      <td>1890</td>\n",
       "      <td>—</td>\n",
       "    </tr>\n",
       "    <tr>\n",
       "      <th>29</th>\n",
       "      <td>31</td>\n",
       "      <td>Tamil Nadu</td>\n",
       "      <td>Chennai</td>\n",
       "      <td>Chennai</td>\n",
       "      <td>Chennai</td>\n",
       "      <td>1956</td>\n",
       "      <td></td>\n",
       "    </tr>\n",
       "    <tr>\n",
       "      <th>30</th>\n",
       "      <td>32</td>\n",
       "      <td>Telangana</td>\n",
       "      <td>Hyderabad</td>\n",
       "      <td>Hyderabad</td>\n",
       "      <td>Hyderabad</td>\n",
       "      <td>2014</td>\n",
       "      <td>—</td>\n",
       "    </tr>\n",
       "    <tr>\n",
       "      <th>31</th>\n",
       "      <td>33</td>\n",
       "      <td>Tripura</td>\n",
       "      <td>Agartala</td>\n",
       "      <td>Agartala</td>\n",
       "      <td>Agartala</td>\n",
       "      <td>1956</td>\n",
       "      <td>—</td>\n",
       "    </tr>\n",
       "    <tr>\n",
       "      <th>32</th>\n",
       "      <td>34</td>\n",
       "      <td>Uttar Pradesh</td>\n",
       "      <td>Lucknow</td>\n",
       "      <td>Lucknow</td>\n",
       "      <td>Allahabad</td>\n",
       "      <td>1938</td>\n",
       "      <td>—</td>\n",
       "    </tr>\n",
       "    <tr>\n",
       "      <th>33</th>\n",
       "      <td>35</td>\n",
       "      <td>Uttarakhand</td>\n",
       "      <td>Dehradun</td>\n",
       "      <td>Dehradun</td>\n",
       "      <td>Nainital</td>\n",
       "      <td>2000</td>\n",
       "      <td>—</td>\n",
       "    </tr>\n",
       "    <tr>\n",
       "      <th>34</th>\n",
       "      <td>36</td>\n",
       "      <td>West Bengal</td>\n",
       "      <td>Kolkata</td>\n",
       "      <td>Kolkata</td>\n",
       "      <td>Kolkata</td>\n",
       "      <td>1947</td>\n",
       "      <td></td>\n",
       "    </tr>\n",
       "  </tbody>\n",
       "</table>\n",
       "</div>"
      ],
      "text/plain": [
       "   Number                             State/UT       Admin_Capital  \\\n",
       "0       1          Andaman and Nicobar Islands          Port Blair   \n",
       "1       2                       Andhra Pradesh           Hyderabad   \n",
       "2       3                    Arunachal Pradesh            Itanagar   \n",
       "3       4                                Assam              Dispur   \n",
       "4       5                                Bihar               Patna   \n",
       "5       6                           Chandigarh          Chandigarh   \n",
       "6       7                         Chhattisgarh         Naya Raipur   \n",
       "7       8               Dadra and Nagar Haveli            Silvassa   \n",
       "8       9                        Daman and Diu               Daman   \n",
       "9      10  National Capital Territory of Delhi           New Delhi   \n",
       "10     11                                  Goa              Panaji   \n",
       "11     12                              Gujarat         Gandhinagar   \n",
       "12     13                              Haryana          Chandigarh   \n",
       "13     14                     Himachal Pradesh              Shimla   \n",
       "14     15                    Jammu and Kashmir            Srinagar   \n",
       "15     16                            Jharkhand              Ranchi   \n",
       "16     17                            Karnataka           Bengaluru   \n",
       "17     18                               Kerala  Thiruvananthapuram   \n",
       "18     19                          Lakshadweep           Kavaratti   \n",
       "19     20                       Madhya Pradesh              Bhopal   \n",
       "20     21                          Maharashtra              Mumbai   \n",
       "21     22                              Manipur              Imphal   \n",
       "22     23                            Meghalaya            Shillong   \n",
       "23     24                              Mizoram              Aizawl   \n",
       "24     25                             Nagaland              Kohima   \n",
       "25     26                               Odisha         Bhubaneswar   \n",
       "26     27                           Puducherry          Puducherry   \n",
       "27     29                            Rajasthan              Jaipur   \n",
       "28     30                               Sikkim             Gangtok   \n",
       "29     31                           Tamil Nadu             Chennai   \n",
       "30     32                            Telangana           Hyderabad   \n",
       "31     33                              Tripura            Agartala   \n",
       "32     34                        Uttar Pradesh             Lucknow   \n",
       "33     35                          Uttarakhand            Dehradun   \n",
       "34     36                          West Bengal             Kolkata   \n",
       "\n",
       "   Legislative_Capital  Judiciary_Capital Year_Capital        Former_Capital  \n",
       "0           Port Blair            Kolkata         1955  Calcutta (1945–1956)  \n",
       "1            Amaravati          Hyderabad         1956               Kurnool  \n",
       "2             Itanagar           Guwahati         1986                  None  \n",
       "3             Guwahati           Guwahati         1975              Shillong  \n",
       "4                Patna              Patna         1912                  None  \n",
       "5                    —         Chandigarh         1966                     —  \n",
       "6               Raipur           Bilaspur         2000                     —  \n",
       "7                    —             Mumbai         1945    Mumbai (1954–1961)  \n",
       "8                    —             Mumbai         1987             Ahmedabad  \n",
       "9            New Delhi          New Delhi         1931                     —  \n",
       "10            Porvorim             Mumbai         1961    Panaji (1961–1987)  \n",
       "11         Gandhinagar          Ahmedabad         1960             Ahmedabad  \n",
       "12          Chandigarh         Chandigarh         1966                     —  \n",
       "13    Shimla (Summer)\n",
       "            Shimla         1971\n",
       "              Bilaspur  \n",
       "14   Srinagar (Summer)  Srinagar (Summer)         1947                     —  \n",
       "15              Ranchi             Ranchi         2000                  None  \n",
       "16           Bengaluru          Bengaluru         1940              (Mysore)  \n",
       "17  Thiruvananthapuram              Kochi         1956                  None  \n",
       "18           Kavaratti              Kochi         1956                  None  \n",
       "19              Bhopal           Jabalpur         1956                Nagpur  \n",
       "20        Mumbai (S+B)             Mumbai         1818                     —  \n",
       "21              Imphal             Imphal         1947                     —  \n",
       "22            Shillong           Shillong         1970                     —  \n",
       "23              Aizawl           Guwahati         1972                     —  \n",
       "24              Kohima           Guwahati         1963                     —  \n",
       "25         Bhubaneswar            Cuttack         1948               Cuttack  \n",
       "26          Puducherry            Chennai         1954                Madras  \n",
       "27              Jaipur            Jodhpur         1950                     —  \n",
       "28             Gangtok            Gangtok         1890                     —  \n",
       "29             Chennai            Chennai         1956                        \n",
       "30           Hyderabad          Hyderabad         2014                     —  \n",
       "31            Agartala           Agartala         1956                     —  \n",
       "32             Lucknow          Allahabad         1938                     —  \n",
       "33            Dehradun           Nainital         2000                     —  \n",
       "34             Kolkata            Kolkata         1947                        "
      ]
     },
     "execution_count": 40,
     "metadata": {},
     "output_type": "execute_result"
    }
   ],
   "source": [
    "df=pd.DataFrame(A,columns=['Number'])\n",
    "df['State/UT']=B\n",
    "df['Admin_Capital']=C\n",
    "df['Legislative_Capital']=D\n",
    "df['Judiciary_Capital']=E\n",
    "df['Year_Capital']=F\n",
    "df['Former_Capital']=G\n",
    "df"
   ]
  },
  {
   "cell_type": "code",
   "execution_count": null,
   "metadata": {
    "collapsed": true
   },
   "outputs": [],
   "source": []
  }
 ],
 "metadata": {
  "anaconda-cloud": {},
  "kernelspec": {
   "display_name": "Python [Root]",
   "language": "python",
   "name": "Python [Root]"
  },
  "language_info": {
   "codemirror_mode": {
    "name": "ipython",
    "version": 2
   },
   "file_extension": ".py",
   "mimetype": "text/x-python",
   "name": "python",
   "nbconvert_exporter": "python",
   "pygments_lexer": "ipython2",
   "version": "2.7.12"
  }
 },
 "nbformat": 4,
 "nbformat_minor": 0
}
